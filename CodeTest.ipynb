{
 "cells": [
  {
   "cell_type": "code",
   "execution_count": null,
   "metadata": {},
   "outputs": [],
   "source": [
    "from FileManagement import load_pickle, save_as_pickle\n",
    "from FilePaths import solutions_filepath\n",
    "\n",
    "filename = \"MOO_NSGA2_g_8_a_50_n_2_v_2.5_r_2_minv_1_maxv_5_Nt_1_tarPos_12_ptdet_0.99_pfdet_0.01_detTh_0.9_maxIso_0-Best-Max_Disconnected_Time-Solution.pkl\"\n",
    "sol = load_pickle(f\"{solutions_filepath}{filename}\")\n",
    "print(sol)"
   ]
  }
 ],
 "metadata": {
  "language_info": {
   "name": "python"
  }
 },
 "nbformat": 4,
 "nbformat_minor": 2
}
